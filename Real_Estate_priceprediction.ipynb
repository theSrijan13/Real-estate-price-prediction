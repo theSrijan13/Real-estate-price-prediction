{
 "cells": [
  {
   "cell_type": "markdown",
   "id": "b0ec97f0",
   "metadata": {},
   "source": [
    "# REAL ESTATE PRICE PREDICTOR\n"
   ]
  },
  {
   "cell_type": "code",
   "execution_count": 1,
   "id": "1787eaf4",
   "metadata": {},
   "outputs": [],
   "source": [
    "import pandas as pd\n"
   ]
  },
  {
   "cell_type": "code",
   "execution_count": 2,
   "id": "cbe681e9",
   "metadata": {},
   "outputs": [],
   "source": [
    "housing = pd.read_csv(\"housingdata.csv\")"
   ]
  },
  {
   "cell_type": "code",
   "execution_count": 3,
   "id": "4158fe1f",
   "metadata": {},
   "outputs": [
    {
     "data": {
      "text/html": [
       "<div>\n",
       "<style scoped>\n",
       "    .dataframe tbody tr th:only-of-type {\n",
       "        vertical-align: middle;\n",
       "    }\n",
       "\n",
       "    .dataframe tbody tr th {\n",
       "        vertical-align: top;\n",
       "    }\n",
       "\n",
       "    .dataframe thead th {\n",
       "        text-align: right;\n",
       "    }\n",
       "</style>\n",
       "<table border=\"1\" class=\"dataframe\">\n",
       "  <thead>\n",
       "    <tr style=\"text-align: right;\">\n",
       "      <th></th>\n",
       "      <th>CRIM</th>\n",
       "      <th>ZN</th>\n",
       "      <th>INDUS</th>\n",
       "      <th>CHAS</th>\n",
       "      <th>NOX</th>\n",
       "      <th>RM</th>\n",
       "      <th>AGE</th>\n",
       "      <th>DIS</th>\n",
       "      <th>RAID</th>\n",
       "      <th>TAX</th>\n",
       "      <th>PITRATIO</th>\n",
       "      <th>B</th>\n",
       "      <th>LSAT</th>\n",
       "      <th>MEDV</th>\n",
       "    </tr>\n",
       "  </thead>\n",
       "  <tbody>\n",
       "    <tr>\n",
       "      <th>0</th>\n",
       "      <td>0.03359</td>\n",
       "      <td>75.0</td>\n",
       "      <td>2.95</td>\n",
       "      <td>0</td>\n",
       "      <td>0.428</td>\n",
       "      <td>7.024</td>\n",
       "      <td>15.8</td>\n",
       "      <td>5.4011</td>\n",
       "      <td>3</td>\n",
       "      <td>252</td>\n",
       "      <td>18.3</td>\n",
       "      <td>395.62</td>\n",
       "      <td>1.98</td>\n",
       "      <td>34.9</td>\n",
       "    </tr>\n",
       "    <tr>\n",
       "      <th>1</th>\n",
       "      <td>0.12744</td>\n",
       "      <td>0.0</td>\n",
       "      <td>6.91</td>\n",
       "      <td>0</td>\n",
       "      <td>0.448</td>\n",
       "      <td>6.770</td>\n",
       "      <td>2.9</td>\n",
       "      <td>5.7209</td>\n",
       "      <td>3</td>\n",
       "      <td>233</td>\n",
       "      <td>17.9</td>\n",
       "      <td>385.41</td>\n",
       "      <td>4.84</td>\n",
       "      <td>26.6</td>\n",
       "    </tr>\n",
       "    <tr>\n",
       "      <th>2</th>\n",
       "      <td>0.14150</td>\n",
       "      <td>0.0</td>\n",
       "      <td>6.91</td>\n",
       "      <td>0</td>\n",
       "      <td>0.448</td>\n",
       "      <td>6.169</td>\n",
       "      <td>6.6</td>\n",
       "      <td>5.7209</td>\n",
       "      <td>3</td>\n",
       "      <td>233</td>\n",
       "      <td>17.9</td>\n",
       "      <td>383.37</td>\n",
       "      <td>5.81</td>\n",
       "      <td>25.3</td>\n",
       "    </tr>\n",
       "    <tr>\n",
       "      <th>3</th>\n",
       "      <td>0.15936</td>\n",
       "      <td>0.0</td>\n",
       "      <td>6.91</td>\n",
       "      <td>0</td>\n",
       "      <td>0.448</td>\n",
       "      <td>6.211</td>\n",
       "      <td>6.5</td>\n",
       "      <td>5.7209</td>\n",
       "      <td>3</td>\n",
       "      <td>233</td>\n",
       "      <td>17.9</td>\n",
       "      <td>394.46</td>\n",
       "      <td>7.44</td>\n",
       "      <td>24.7</td>\n",
       "    </tr>\n",
       "    <tr>\n",
       "      <th>4</th>\n",
       "      <td>0.12269</td>\n",
       "      <td>0.0</td>\n",
       "      <td>6.91</td>\n",
       "      <td>0</td>\n",
       "      <td>0.448</td>\n",
       "      <td>6.069</td>\n",
       "      <td>40.0</td>\n",
       "      <td>5.7209</td>\n",
       "      <td>3</td>\n",
       "      <td>233</td>\n",
       "      <td>17.9</td>\n",
       "      <td>389.39</td>\n",
       "      <td>9.55</td>\n",
       "      <td>21.2</td>\n",
       "    </tr>\n",
       "  </tbody>\n",
       "</table>\n",
       "</div>"
      ],
      "text/plain": [
       "      CRIM    ZN  INDUS  CHAS    NOX     RM   AGE     DIS  RAID  TAX  \\\n",
       "0  0.03359  75.0   2.95     0  0.428  7.024  15.8  5.4011     3  252   \n",
       "1  0.12744   0.0   6.91     0  0.448  6.770   2.9  5.7209     3  233   \n",
       "2  0.14150   0.0   6.91     0  0.448  6.169   6.6  5.7209     3  233   \n",
       "3  0.15936   0.0   6.91     0  0.448  6.211   6.5  5.7209     3  233   \n",
       "4  0.12269   0.0   6.91     0  0.448  6.069  40.0  5.7209     3  233   \n",
       "\n",
       "   PITRATIO       B  LSAT  MEDV  \n",
       "0      18.3  395.62  1.98  34.9  \n",
       "1      17.9  385.41  4.84  26.6  \n",
       "2      17.9  383.37  5.81  25.3  \n",
       "3      17.9  394.46  7.44  24.7  \n",
       "4      17.9  389.39  9.55  21.2  "
      ]
     },
     "execution_count": 3,
     "metadata": {},
     "output_type": "execute_result"
    }
   ],
   "source": [
    "housing.head()"
   ]
  },
  {
   "cell_type": "code",
   "execution_count": 4,
   "id": "6c02f295",
   "metadata": {},
   "outputs": [
    {
     "name": "stdout",
     "output_type": "stream",
     "text": [
      "<class 'pandas.core.frame.DataFrame'>\n",
      "RangeIndex: 466 entries, 0 to 465\n",
      "Data columns (total 14 columns):\n",
      " #   Column    Non-Null Count  Dtype  \n",
      "---  ------    --------------  -----  \n",
      " 0   CRIM      466 non-null    float64\n",
      " 1   ZN        466 non-null    float64\n",
      " 2   INDUS     466 non-null    float64\n",
      " 3   CHAS      466 non-null    int64  \n",
      " 4   NOX       466 non-null    float64\n",
      " 5   RM        461 non-null    float64\n",
      " 6   AGE       466 non-null    float64\n",
      " 7   DIS       466 non-null    float64\n",
      " 8   RAID      466 non-null    int64  \n",
      " 9   TAX       466 non-null    int64  \n",
      " 10  PITRATIO  466 non-null    float64\n",
      " 11  B         466 non-null    float64\n",
      " 12  LSAT      466 non-null    float64\n",
      " 13  MEDV      466 non-null    float64\n",
      "dtypes: float64(11), int64(3)\n",
      "memory usage: 51.1 KB\n"
     ]
    }
   ],
   "source": [
    "housing.info()"
   ]
  },
  {
   "cell_type": "code",
   "execution_count": 5,
   "id": "fb777ddf",
   "metadata": {},
   "outputs": [
    {
     "data": {
      "text/plain": [
       "0    431\n",
       "1     35\n",
       "Name: CHAS, dtype: int64"
      ]
     },
     "execution_count": 5,
     "metadata": {},
     "output_type": "execute_result"
    }
   ],
   "source": [
    "housing['CHAS'].value_counts()"
   ]
  },
  {
   "cell_type": "code",
   "execution_count": 6,
   "id": "ca7e3bff",
   "metadata": {},
   "outputs": [
    {
     "data": {
      "text/html": [
       "<div>\n",
       "<style scoped>\n",
       "    .dataframe tbody tr th:only-of-type {\n",
       "        vertical-align: middle;\n",
       "    }\n",
       "\n",
       "    .dataframe tbody tr th {\n",
       "        vertical-align: top;\n",
       "    }\n",
       "\n",
       "    .dataframe thead th {\n",
       "        text-align: right;\n",
       "    }\n",
       "</style>\n",
       "<table border=\"1\" class=\"dataframe\">\n",
       "  <thead>\n",
       "    <tr style=\"text-align: right;\">\n",
       "      <th></th>\n",
       "      <th>CRIM</th>\n",
       "      <th>ZN</th>\n",
       "      <th>INDUS</th>\n",
       "      <th>CHAS</th>\n",
       "      <th>NOX</th>\n",
       "      <th>RM</th>\n",
       "      <th>AGE</th>\n",
       "      <th>DIS</th>\n",
       "      <th>RAID</th>\n",
       "      <th>TAX</th>\n",
       "      <th>PITRATIO</th>\n",
       "      <th>B</th>\n",
       "      <th>LSAT</th>\n",
       "      <th>MEDV</th>\n",
       "    </tr>\n",
       "  </thead>\n",
       "  <tbody>\n",
       "    <tr>\n",
       "      <th>count</th>\n",
       "      <td>466.000000</td>\n",
       "      <td>466.000000</td>\n",
       "      <td>466.000000</td>\n",
       "      <td>466.000000</td>\n",
       "      <td>466.000000</td>\n",
       "      <td>461.000000</td>\n",
       "      <td>466.000000</td>\n",
       "      <td>466.000000</td>\n",
       "      <td>466.000000</td>\n",
       "      <td>466.000000</td>\n",
       "      <td>466.000000</td>\n",
       "      <td>466.000000</td>\n",
       "      <td>466.000000</td>\n",
       "      <td>466.000000</td>\n",
       "    </tr>\n",
       "    <tr>\n",
       "      <th>mean</th>\n",
       "      <td>3.874544</td>\n",
       "      <td>11.951717</td>\n",
       "      <td>11.483391</td>\n",
       "      <td>0.075107</td>\n",
       "      <td>0.557720</td>\n",
       "      <td>6.302722</td>\n",
       "      <td>68.110730</td>\n",
       "      <td>3.719791</td>\n",
       "      <td>10.025751</td>\n",
       "      <td>418.075107</td>\n",
       "      <td>18.386266</td>\n",
       "      <td>355.120644</td>\n",
       "      <td>12.579592</td>\n",
       "      <td>22.744421</td>\n",
       "    </tr>\n",
       "    <tr>\n",
       "      <th>std</th>\n",
       "      <td>8.914454</td>\n",
       "      <td>23.936348</td>\n",
       "      <td>7.019696</td>\n",
       "      <td>0.263848</td>\n",
       "      <td>0.119969</td>\n",
       "      <td>0.723465</td>\n",
       "      <td>28.535649</td>\n",
       "      <td>2.162066</td>\n",
       "      <td>8.910268</td>\n",
       "      <td>171.924592</td>\n",
       "      <td>2.142670</td>\n",
       "      <td>94.255829</td>\n",
       "      <td>7.206599</td>\n",
       "      <td>9.392574</td>\n",
       "    </tr>\n",
       "    <tr>\n",
       "      <th>min</th>\n",
       "      <td>0.009060</td>\n",
       "      <td>0.000000</td>\n",
       "      <td>0.460000</td>\n",
       "      <td>0.000000</td>\n",
       "      <td>0.385000</td>\n",
       "      <td>3.561000</td>\n",
       "      <td>2.900000</td>\n",
       "      <td>1.129600</td>\n",
       "      <td>1.000000</td>\n",
       "      <td>187.000000</td>\n",
       "      <td>12.600000</td>\n",
       "      <td>0.320000</td>\n",
       "      <td>1.730000</td>\n",
       "      <td>5.000000</td>\n",
       "    </tr>\n",
       "    <tr>\n",
       "      <th>25%</th>\n",
       "      <td>0.081900</td>\n",
       "      <td>0.000000</td>\n",
       "      <td>5.130000</td>\n",
       "      <td>0.000000</td>\n",
       "      <td>0.448000</td>\n",
       "      <td>5.887000</td>\n",
       "      <td>42.950000</td>\n",
       "      <td>2.026525</td>\n",
       "      <td>4.000000</td>\n",
       "      <td>277.000000</td>\n",
       "      <td>17.075000</td>\n",
       "      <td>374.710000</td>\n",
       "      <td>6.877500</td>\n",
       "      <td>17.200000</td>\n",
       "    </tr>\n",
       "    <tr>\n",
       "      <th>50%</th>\n",
       "      <td>0.252775</td>\n",
       "      <td>0.000000</td>\n",
       "      <td>10.010000</td>\n",
       "      <td>0.000000</td>\n",
       "      <td>0.544000</td>\n",
       "      <td>6.229000</td>\n",
       "      <td>76.800000</td>\n",
       "      <td>2.893550</td>\n",
       "      <td>5.000000</td>\n",
       "      <td>364.000000</td>\n",
       "      <td>18.900000</td>\n",
       "      <td>391.440000</td>\n",
       "      <td>11.110000</td>\n",
       "      <td>21.450000</td>\n",
       "    </tr>\n",
       "    <tr>\n",
       "      <th>75%</th>\n",
       "      <td>4.326920</td>\n",
       "      <td>20.000000</td>\n",
       "      <td>18.100000</td>\n",
       "      <td>0.000000</td>\n",
       "      <td>0.647000</td>\n",
       "      <td>6.642000</td>\n",
       "      <td>93.975000</td>\n",
       "      <td>5.118000</td>\n",
       "      <td>24.000000</td>\n",
       "      <td>666.000000</td>\n",
       "      <td>20.200000</td>\n",
       "      <td>396.237500</td>\n",
       "      <td>16.860000</td>\n",
       "      <td>25.175000</td>\n",
       "    </tr>\n",
       "    <tr>\n",
       "      <th>max</th>\n",
       "      <td>88.976200</td>\n",
       "      <td>100.000000</td>\n",
       "      <td>27.740000</td>\n",
       "      <td>1.000000</td>\n",
       "      <td>0.871000</td>\n",
       "      <td>8.780000</td>\n",
       "      <td>100.000000</td>\n",
       "      <td>12.126500</td>\n",
       "      <td>24.000000</td>\n",
       "      <td>711.000000</td>\n",
       "      <td>22.000000</td>\n",
       "      <td>396.900000</td>\n",
       "      <td>37.970000</td>\n",
       "      <td>50.000000</td>\n",
       "    </tr>\n",
       "  </tbody>\n",
       "</table>\n",
       "</div>"
      ],
      "text/plain": [
       "             CRIM          ZN       INDUS        CHAS         NOX          RM  \\\n",
       "count  466.000000  466.000000  466.000000  466.000000  466.000000  461.000000   \n",
       "mean     3.874544   11.951717   11.483391    0.075107    0.557720    6.302722   \n",
       "std      8.914454   23.936348    7.019696    0.263848    0.119969    0.723465   \n",
       "min      0.009060    0.000000    0.460000    0.000000    0.385000    3.561000   \n",
       "25%      0.081900    0.000000    5.130000    0.000000    0.448000    5.887000   \n",
       "50%      0.252775    0.000000   10.010000    0.000000    0.544000    6.229000   \n",
       "75%      4.326920   20.000000   18.100000    0.000000    0.647000    6.642000   \n",
       "max     88.976200  100.000000   27.740000    1.000000    0.871000    8.780000   \n",
       "\n",
       "              AGE         DIS        RAID         TAX    PITRATIO           B  \\\n",
       "count  466.000000  466.000000  466.000000  466.000000  466.000000  466.000000   \n",
       "mean    68.110730    3.719791   10.025751  418.075107   18.386266  355.120644   \n",
       "std     28.535649    2.162066    8.910268  171.924592    2.142670   94.255829   \n",
       "min      2.900000    1.129600    1.000000  187.000000   12.600000    0.320000   \n",
       "25%     42.950000    2.026525    4.000000  277.000000   17.075000  374.710000   \n",
       "50%     76.800000    2.893550    5.000000  364.000000   18.900000  391.440000   \n",
       "75%     93.975000    5.118000   24.000000  666.000000   20.200000  396.237500   \n",
       "max    100.000000   12.126500   24.000000  711.000000   22.000000  396.900000   \n",
       "\n",
       "             LSAT        MEDV  \n",
       "count  466.000000  466.000000  \n",
       "mean    12.579592   22.744421  \n",
       "std      7.206599    9.392574  \n",
       "min      1.730000    5.000000  \n",
       "25%      6.877500   17.200000  \n",
       "50%     11.110000   21.450000  \n",
       "75%     16.860000   25.175000  \n",
       "max     37.970000   50.000000  "
      ]
     },
     "execution_count": 6,
     "metadata": {},
     "output_type": "execute_result"
    }
   ],
   "source": [
    "housing.describe()"
   ]
  },
  {
   "cell_type": "code",
   "execution_count": 7,
   "id": "d819335b",
   "metadata": {},
   "outputs": [],
   "source": [
    "%matplotlib inline"
   ]
  },
  {
   "cell_type": "code",
   "execution_count": 8,
   "id": "ebc4f420",
   "metadata": {},
   "outputs": [
    {
     "data": {
      "text/plain": [
       "array([[<AxesSubplot:title={'center':'CRIM'}>,\n",
       "        <AxesSubplot:title={'center':'ZN'}>,\n",
       "        <AxesSubplot:title={'center':'INDUS'}>,\n",
       "        <AxesSubplot:title={'center':'CHAS'}>],\n",
       "       [<AxesSubplot:title={'center':'NOX'}>,\n",
       "        <AxesSubplot:title={'center':'RM'}>,\n",
       "        <AxesSubplot:title={'center':'AGE'}>,\n",
       "        <AxesSubplot:title={'center':'DIS'}>],\n",
       "       [<AxesSubplot:title={'center':'RAID'}>,\n",
       "        <AxesSubplot:title={'center':'TAX'}>,\n",
       "        <AxesSubplot:title={'center':'PITRATIO'}>,\n",
       "        <AxesSubplot:title={'center':'B'}>],\n",
       "       [<AxesSubplot:title={'center':'LSAT'}>,\n",
       "        <AxesSubplot:title={'center':'MEDV'}>, <AxesSubplot:>,\n",
       "        <AxesSubplot:>]], dtype=object)"
      ]
     },
     "execution_count": 8,
     "metadata": {},
     "output_type": "execute_result"
    },
    {
     "data": {
      "image/png": "[encoded data removed]",
      "text/plain": [
       "<Figure size 1440x1080 with 16 Axes>"
      ]
     },
     "metadata": {
      "needs_background": "light"
     },
     "output_type": "display_data"
    }
   ],
   "source": [
    "housing.hist(bins=50, figsize=(20,15))"
   ]
  },
  {
   "cell_type": "markdown",
   "id": "c7ee0ec5",
   "metadata": {},
   "source": [
    "## Train_ Test Spliting"
   ]
  },
  {
   "cell_type": "code",
   "execution_count": 9,
   "id": "756e208a",
   "metadata": {},
   "outputs": [],
   "source": [
    "import numpy as np\n",
    "def split_train_test(data,test_ratio):\n",
    "    np.random.seed(42)\n",
    "    shuffled = np.random.permutation(len(data))\n",
    "    print(shuffled)\n",
    "    test_set_size = int(len(data)* test_ratio)\n",
    "    test_indices=shuffled[:test_set_size]\n",
    "    train_indices=shuffled[test_set_size:]\n",
    "    return data.iloc[train_indices],data.iloc[test_indices]"
   ]
  },
  {
   "cell_type": "code",
   "execution_count": 10,
   "id": "9a1f0635",
   "metadata": {},
   "outputs": [
    {
     "name": "stdout",
     "output_type": "stream",
     "text": [
      "[ 55  63  33 461  72 332 228   9 172 229  77  73 347  82 281 266 415 287\n",
      " 423  76   0  93  11 412  75 440 310 176  30 253 396 382 268  90  18  39\n",
      "  79  70 131 434 101 117 132 113 416 238 294 460 403 244 453 318 126 311\n",
      " 338 324  78 431 405 284 168 299 457 426 199 180 399 124 323 410  15 312\n",
      " 361  19 362 393  56 274 148 446 451 391 397  25 249 211 298  42 459 321\n",
      " 329 368 220 140 302  22 304  46 153 456 155 376  57 351 204  24  17  66\n",
      " 447  86  31  84 320 137 196 445  94 255 193 175 437 409 388 104 231 301\n",
      "   5 116  45  16 432 333   3 364  60 110 296 369  29 157 203  26   7 425\n",
      " 108 305 436 118 114 290 154 422 407 355 173 245 185 417 141 341 248 414\n",
      " 181 210 109 375 145 227 152 371 237  83 209 165 390 195  74 239 247 379\n",
      " 119 349 277 218 454 192 261 384 358 250  36 139 340 208 401 408  59 111\n",
      " 411 234   6 336 322 158 150 177 184  10 356 103  81  38 452 167 438 271\n",
      " 198 275 225 222 194  89 146 163 291 147   2  92 374  69 265 123 360  96\n",
      " 143 353 334 367  97 286  68  23  37 144 122 183 202 182  67 246 464 297\n",
      " 439 357 278 370 262 125 280 223 392 219 129 394 380 419 352 383 331 272\n",
      " 342 317 112 179 442 316 307 449 335 233 289 164 136 197 258 232 115 120\n",
      " 325 224 377 314 127 285 386 107 346 381 133 404  44 430  65 283  85 242\n",
      " 186 159  12  35  28 170 142 373 421 221  95  51 240 463 354 178  41 424\n",
      " 206 282 254 395   4 256 420 100 226 400 213 171  98 292 215  61  47  32\n",
      " 267 327 200 418  27 365 230 260 288 162 398 138  62 135 128 444   8 326\n",
      " 433  64 300  14 156  40 429 378 216 279 406 402 337 236 207 212 295 427\n",
      " 251 455 428 303 350 269 201 161  43 217 190 309 259 105  53 389   1 443\n",
      " 450  49  80 205  34 263 366  91 339 441  52 345 264 241  13 315  88 387\n",
      " 273 166 328 458 134 306 448 319 243  54 363  50 174 189 462 187 169  58\n",
      "  48 344 235 252  21 313 160 276 191 385 293 413 343 257 308 149 130 151\n",
      " 359  99 372  87 330 214 121 465  20 188  71 106 270 348 435 102]\n"
     ]
    }
   ],
   "source": [
    "train_set , test_set = split_train_test(housing, 0.2)"
   ]
  },
  {
   "cell_type": "code",
   "execution_count": 11,
   "id": "7514ab28",
   "metadata": {},
   "outputs": [
    {
     "name": "stdout",
     "output_type": "stream",
     "text": [
      "rows in train set : 373\n",
      "Rows in test set: 93\n",
      "\n"
     ]
    }
   ],
   "source": [
    "print(f\"rows in train set : {len(train_set)}\\nRows in test set: {len(test_set)}\\n\")"
   ]
  },
  {
   "cell_type": "code",
   "execution_count": 12,
   "id": "f0f8e8ef",
   "metadata": {},
   "outputs": [
    {
     "name": "stdout",
     "output_type": "stream",
     "text": [
      "rows in train set : 372\n",
      "Rows in test set: 94\n",
      "\n"
     ]
    }
   ],
   "source": [
    "from sklearn.model_selection import train_test_split\n",
    "train_set, test_set  = train_test_split(housing,test_size=0.2,random_state=42)\n",
    "print(f\"rows in train set : {len(train_set)}\\nRows in test set: {len(test_set)}\\n\")"
   ]
  },
  {
   "cell_type": "code",
   "execution_count": 13,
   "id": "715e7b31",
   "metadata": {},
   "outputs": [],
   "source": [
    "from sklearn.model_selection import StratifiedShuffleSplit\n",
    "split = StratifiedShuffleSplit(n_splits=1,test_size=0.2,random_state=42)\n",
    "for train_index,test_index in split.split(housing,housing['CHAS']):\n",
    "    strat_train_set = housing.loc[train_index]\n",
    "    strat_test_set = housing.loc[test_index]"
   ]
  },
  {
   "cell_type": "code",
   "execution_count": 14,
   "id": "6105d7c5",
   "metadata": {},
   "outputs": [
    {
     "data": {
      "text/html": [
       "<div>\n",
       "<style scoped>\n",
       "    .dataframe tbody tr th:only-of-type {\n",
       "        vertical-align: middle;\n",
       "    }\n",
       "\n",
       "    .dataframe tbody tr th {\n",
       "        vertical-align: top;\n",
       "    }\n",
       "\n",
       "    .dataframe thead th {\n",
       "        text-align: right;\n",
       "    }\n",
       "</style>\n",
       "<table border=\"1\" class=\"dataframe\">\n",
       "  <thead>\n",
       "    <tr style=\"text-align: right;\">\n",
       "      <th></th>\n",
       "      <th>CRIM</th>\n",
       "      <th>ZN</th>\n",
       "      <th>INDUS</th>\n",
       "      <th>CHAS</th>\n",
       "      <th>NOX</th>\n",
       "      <th>RM</th>\n",
       "      <th>AGE</th>\n",
       "      <th>DIS</th>\n",
       "      <th>RAID</th>\n",
       "      <th>TAX</th>\n",
       "      <th>PITRATIO</th>\n",
       "      <th>B</th>\n",
       "      <th>LSAT</th>\n",
       "      <th>MEDV</th>\n",
       "    </tr>\n",
       "  </thead>\n",
       "  <tbody>\n",
       "    <tr>\n",
       "      <th>count</th>\n",
       "      <td>94.000000</td>\n",
       "      <td>94.000000</td>\n",
       "      <td>94.000000</td>\n",
       "      <td>94.000000</td>\n",
       "      <td>94.000000</td>\n",
       "      <td>94.000000</td>\n",
       "      <td>94.000000</td>\n",
       "      <td>94.000000</td>\n",
       "      <td>94.000000</td>\n",
       "      <td>94.000000</td>\n",
       "      <td>94.000000</td>\n",
       "      <td>94.000000</td>\n",
       "      <td>94.000000</td>\n",
       "      <td>94.000000</td>\n",
       "    </tr>\n",
       "    <tr>\n",
       "      <th>mean</th>\n",
       "      <td>5.143013</td>\n",
       "      <td>9.340426</td>\n",
       "      <td>12.002660</td>\n",
       "      <td>0.074468</td>\n",
       "      <td>0.573572</td>\n",
       "      <td>6.227745</td>\n",
       "      <td>69.541489</td>\n",
       "      <td>3.456163</td>\n",
       "      <td>9.755319</td>\n",
       "      <td>415.265957</td>\n",
       "      <td>18.403191</td>\n",
       "      <td>354.138617</td>\n",
       "      <td>12.960319</td>\n",
       "      <td>21.581915</td>\n",
       "    </tr>\n",
       "    <tr>\n",
       "      <th>std</th>\n",
       "      <td>12.084414</td>\n",
       "      <td>18.418407</td>\n",
       "      <td>6.996555</td>\n",
       "      <td>0.263939</td>\n",
       "      <td>0.124294</td>\n",
       "      <td>0.814569</td>\n",
       "      <td>28.588096</td>\n",
       "      <td>1.932442</td>\n",
       "      <td>8.764157</td>\n",
       "      <td>171.671490</td>\n",
       "      <td>2.209484</td>\n",
       "      <td>97.492218</td>\n",
       "      <td>7.734065</td>\n",
       "      <td>9.076248</td>\n",
       "    </tr>\n",
       "    <tr>\n",
       "      <th>min</th>\n",
       "      <td>0.009060</td>\n",
       "      <td>0.000000</td>\n",
       "      <td>1.520000</td>\n",
       "      <td>0.000000</td>\n",
       "      <td>0.400000</td>\n",
       "      <td>3.561000</td>\n",
       "      <td>2.900000</td>\n",
       "      <td>1.321600</td>\n",
       "      <td>1.000000</td>\n",
       "      <td>188.000000</td>\n",
       "      <td>12.600000</td>\n",
       "      <td>2.520000</td>\n",
       "      <td>2.470000</td>\n",
       "      <td>5.000000</td>\n",
       "    </tr>\n",
       "    <tr>\n",
       "      <th>25%</th>\n",
       "      <td>0.079687</td>\n",
       "      <td>0.000000</td>\n",
       "      <td>5.860000</td>\n",
       "      <td>0.000000</td>\n",
       "      <td>0.464000</td>\n",
       "      <td>5.869250</td>\n",
       "      <td>47.300000</td>\n",
       "      <td>1.830175</td>\n",
       "      <td>4.000000</td>\n",
       "      <td>277.000000</td>\n",
       "      <td>17.450000</td>\n",
       "      <td>377.322500</td>\n",
       "      <td>6.660000</td>\n",
       "      <td>15.700000</td>\n",
       "    </tr>\n",
       "    <tr>\n",
       "      <th>50%</th>\n",
       "      <td>0.309400</td>\n",
       "      <td>0.000000</td>\n",
       "      <td>10.300000</td>\n",
       "      <td>0.000000</td>\n",
       "      <td>0.545500</td>\n",
       "      <td>6.249500</td>\n",
       "      <td>77.800000</td>\n",
       "      <td>2.811150</td>\n",
       "      <td>5.000000</td>\n",
       "      <td>330.000000</td>\n",
       "      <td>19.100000</td>\n",
       "      <td>392.300000</td>\n",
       "      <td>10.505000</td>\n",
       "      <td>21.350000</td>\n",
       "    </tr>\n",
       "    <tr>\n",
       "      <th>75%</th>\n",
       "      <td>4.285942</td>\n",
       "      <td>20.000000</td>\n",
       "      <td>18.100000</td>\n",
       "      <td>0.000000</td>\n",
       "      <td>0.677000</td>\n",
       "      <td>6.680750</td>\n",
       "      <td>95.925000</td>\n",
       "      <td>4.363600</td>\n",
       "      <td>24.000000</td>\n",
       "      <td>666.000000</td>\n",
       "      <td>20.200000</td>\n",
       "      <td>396.900000</td>\n",
       "      <td>16.995000</td>\n",
       "      <td>25.000000</td>\n",
       "    </tr>\n",
       "    <tr>\n",
       "      <th>max</th>\n",
       "      <td>73.534100</td>\n",
       "      <td>90.000000</td>\n",
       "      <td>27.740000</td>\n",
       "      <td>1.000000</td>\n",
       "      <td>0.871000</td>\n",
       "      <td>8.337000</td>\n",
       "      <td>100.000000</td>\n",
       "      <td>8.055500</td>\n",
       "      <td>24.000000</td>\n",
       "      <td>711.000000</td>\n",
       "      <td>21.200000</td>\n",
       "      <td>396.900000</td>\n",
       "      <td>36.980000</td>\n",
       "      <td>50.000000</td>\n",
       "    </tr>\n",
       "  </tbody>\n",
       "</table>\n",
       "</div>"
      ],
      "text/plain": [
       "            CRIM         ZN      INDUS       CHAS        NOX         RM  \\\n",
       "count  94.000000  94.000000  94.000000  94.000000  94.000000  94.000000   \n",
       "mean    5.143013   9.340426  12.002660   0.074468   0.573572   6.227745   \n",
       "std    12.084414  18.418407   6.996555   0.263939   0.124294   0.814569   \n",
       "min     0.009060   0.000000   1.520000   0.000000   0.400000   3.561000   \n",
       "25%     0.079687   0.000000   5.860000   0.000000   0.464000   5.869250   \n",
       "50%     0.309400   0.000000  10.300000   0.000000   0.545500   6.249500   \n",
       "75%     4.285942  20.000000  18.100000   0.000000   0.677000   6.680750   \n",
       "max    73.534100  90.000000  27.740000   1.000000   0.871000   8.337000   \n",
       "\n",
       "              AGE        DIS       RAID         TAX   PITRATIO           B  \\\n",
       "count   94.000000  94.000000  94.000000   94.000000  94.000000   94.000000   \n",
       "mean    69.541489   3.456163   9.755319  415.265957  18.403191  354.138617   \n",
       "std     28.588096   1.932442   8.764157  171.671490   2.209484   97.492218   \n",
       "min      2.900000   1.321600   1.000000  188.000000  12.600000    2.520000   \n",
       "25%     47.300000   1.830175   4.000000  277.000000  17.450000  377.322500   \n",
       "50%     77.800000   2.811150   5.000000  330.000000  19.100000  392.300000   \n",
       "75%     95.925000   4.363600  24.000000  666.000000  20.200000  396.900000   \n",
       "max    100.000000   8.055500  24.000000  711.000000  21.200000  396.900000   \n",
       "\n",
       "            LSAT       MEDV  \n",
       "count  94.000000  94.000000  \n",
       "mean   12.960319  21.581915  \n",
       "std     7.734065   9.076248  \n",
       "min     2.470000   5.000000  \n",
       "25%     6.660000  15.700000  \n",
       "50%    10.505000  21.350000  \n",
       "75%    16.995000  25.000000  \n",
       "max    36.980000  50.000000  "
      ]
     },
     "execution_count": 14,
     "metadata": {},
     "output_type": "execute_result"
    }
   ],
   "source": [
    "strat_test_set.describe()"
   ]
  },
  {
   "cell_type": "code",
   "execution_count": 15,
   "id": "297c6203",
   "metadata": {},
   "outputs": [
    {
     "data": {
      "text/plain": [
       "0    87\n",
       "1     7\n",
       "Name: CHAS, dtype: int64"
      ]
     },
     "execution_count": 15,
     "metadata": {},
     "output_type": "execute_result"
    }
   ],
   "source": [
    "strat_test_set['CHAS'].value_counts()"
   ]
  },
  {
   "cell_type": "code",
   "execution_count": 16,
   "id": "26ecbda0",
   "metadata": {},
   "outputs": [
    {
     "data": {
      "text/plain": [
       "0    344\n",
       "1     28\n",
       "Name: CHAS, dtype: int64"
      ]
     },
     "execution_count": 16,
     "metadata": {},
     "output_type": "execute_result"
    }
   ],
   "source": [
    "strat_train_set['CHAS'].value_counts()"
   ]
  },
  {
   "cell_type": "code",
   "execution_count": 17,
   "id": "7c297bfc",
   "metadata": {},
   "outputs": [],
   "source": [
    "housing = strat_train_set.copy()"
   ]
  },
  {
   "cell_type": "markdown",
   "id": "a8fecc97",
   "metadata": {},
   "source": [
    "## Looking for coorelation"
   ]
  },
  {
   "cell_type": "code",
   "execution_count": 18,
   "id": "775e8b32",
   "metadata": {},
   "outputs": [],
   "source": [
    "corr_matrix=housing.corr()"
   ]
  },
  {
   "cell_type": "code",
   "execution_count": 19,
   "id": "815bfe1b",
   "metadata": {},
   "outputs": [
    {
     "data": {
      "text/plain": [
       "MEDV        1.000000\n",
       "RM          0.697651\n",
       "ZN          0.351142\n",
       "B           0.324725\n",
       "DIS         0.230211\n",
       "CHAS        0.190825\n",
       "AGE        -0.329553\n",
       "CRIM       -0.379673\n",
       "RAID       -0.385317\n",
       "NOX        -0.399771\n",
       "TAX        -0.464756\n",
       "INDUS      -0.469611\n",
       "PITRATIO   -0.507479\n",
       "LSAT       -0.732028\n",
       "Name: MEDV, dtype: float64"
      ]
     },
     "execution_count": 19,
     "metadata": {},
     "output_type": "execute_result"
    }
   ],
   "source": [
    "corr_matrix['MEDV'].sort_values(ascending = False)"
   ]
  },
  {
   "cell_type": "code",
   "execution_count": 20,
   "id": "3c687039",
   "metadata": {},
   "outputs": [],
   "source": [
    "from pandas.plotting import scatter_matrix"
   ]
  },
  {
   "cell_type": "code",
   "execution_count": 21,
   "id": "8e875865",
   "metadata": {},
   "outputs": [
    {
     "data": {
      "text/plain": [
       "array([[<AxesSubplot:xlabel='MEDV', ylabel='MEDV'>,\n",
       "        <AxesSubplot:xlabel='RM', ylabel='MEDV'>,\n",
       "        <AxesSubplot:xlabel='ZN', ylabel='MEDV'>,\n",
       "        <AxesSubplot:xlabel='LSAT', ylabel='MEDV'>],\n",
       "       [<AxesSubplot:xlabel='MEDV', ylabel='RM'>,\n",
       "        <AxesSubplot:xlabel='RM', ylabel='RM'>,\n",
       "        <AxesSubplot:xlabel='ZN', ylabel='RM'>,\n",
       "        <AxesSubplot:xlabel='LSAT', ylabel='RM'>],\n",
       "       [<AxesSubplot:xlabel='MEDV', ylabel='ZN'>,\n",
       "        <AxesSubplot:xlabel='RM', ylabel='ZN'>,\n",
       "        <AxesSubplot:xlabel='ZN', ylabel='ZN'>,\n",
       "        <AxesSubplot:xlabel='LSAT', ylabel='ZN'>],\n",
       "       [<AxesSubplot:xlabel='MEDV', ylabel='LSAT'>,\n",
       "        <AxesSubplot:xlabel='RM', ylabel='LSAT'>,\n",
       "        <AxesSubplot:xlabel='ZN', ylabel='LSAT'>,\n",
       "        <AxesSubplot:xlabel='LSAT', ylabel='LSAT'>]], dtype=object)"
      ]
     },
     "execution_count": 21,
     "metadata": {},
     "output_type": "execute_result"
    },
    {
     "data": {
      "image/png": "[encoded data removed]",
      "text/plain": [
       "<Figure size 864x576 with 16 Axes>"
      ]
     },
     "metadata": {
      "needs_background": "light"
     },
     "output_type": "display_data"
    }
   ],
   "source": [
    "attributes = [\"MEDV\",\"RM\",\"ZN\",\"LSAT\"]\n",
    "scatter_matrix(housing[attributes],figsize = (12,8))"
   ]
  },
  {
   "cell_type": "code",
   "execution_count": 22,
   "id": "ff3d4c67",
   "metadata": {},
   "outputs": [
    {
     "data": {
      "text/plain": [
       "<AxesSubplot:xlabel='RM', ylabel='MEDV'>"
      ]
     },
     "execution_count": 22,
     "metadata": {},
     "output_type": "execute_result"
    },
    {
     "data": {
      "image/png": "[encoded data removed]",
      "text/plain": [
       "<Figure size 432x288 with 1 Axes>"
      ]
     },
     "metadata": {
      "needs_background": "light"
     },
     "output_type": "display_data"
    }
   ],
   "source": [
    "housing.plot(kind=\"scatter\",x=\"RM\",y=\"MEDV\",alpha=0.8)"
   ]
  },
  {
   "cell_type": "markdown",
   "id": "0d10acb5",
   "metadata": {},
   "source": [
    "## Attribute combination"
   ]
  },
  {
   "cell_type": "code",
   "execution_count": 23,
   "id": "f216ca22",
   "metadata": {},
   "outputs": [
    {
     "data": {
      "text/html": [
       "<div>\n",
       "<style scoped>\n",
       "    .dataframe tbody tr th:only-of-type {\n",
       "        vertical-align: middle;\n",
       "    }\n",
       "\n",
       "    .dataframe tbody tr th {\n",
       "        vertical-align: top;\n",
       "    }\n",
       "\n",
       "    .dataframe thead th {\n",
       "        text-align: right;\n",
       "    }\n",
       "</style>\n",
       "<table border=\"1\" class=\"dataframe\">\n",
       "  <thead>\n",
       "    <tr style=\"text-align: right;\">\n",
       "      <th></th>\n",
       "      <th>CRIM</th>\n",
       "      <th>ZN</th>\n",
       "      <th>INDUS</th>\n",
       "      <th>CHAS</th>\n",
       "      <th>NOX</th>\n",
       "      <th>RM</th>\n",
       "      <th>AGE</th>\n",
       "      <th>DIS</th>\n",
       "      <th>RAID</th>\n",
       "      <th>TAX</th>\n",
       "      <th>PITRATIO</th>\n",
       "      <th>B</th>\n",
       "      <th>LSAT</th>\n",
       "      <th>MEDV</th>\n",
       "      <th>TAXRM</th>\n",
       "    </tr>\n",
       "  </thead>\n",
       "  <tbody>\n",
       "    <tr>\n",
       "      <th>428</th>\n",
       "      <td>15.57570</td>\n",
       "      <td>0.0</td>\n",
       "      <td>18.10</td>\n",
       "      <td>0</td>\n",
       "      <td>0.580</td>\n",
       "      <td>5.926</td>\n",
       "      <td>71.0</td>\n",
       "      <td>2.9084</td>\n",
       "      <td>24</td>\n",
       "      <td>666</td>\n",
       "      <td>20.2</td>\n",
       "      <td>368.74</td>\n",
       "      <td>18.13</td>\n",
       "      <td>19.1</td>\n",
       "      <td>112.386095</td>\n",
       "    </tr>\n",
       "    <tr>\n",
       "      <th>32</th>\n",
       "      <td>0.09164</td>\n",
       "      <td>0.0</td>\n",
       "      <td>10.81</td>\n",
       "      <td>0</td>\n",
       "      <td>0.413</td>\n",
       "      <td>6.065</td>\n",
       "      <td>7.8</td>\n",
       "      <td>5.2873</td>\n",
       "      <td>4</td>\n",
       "      <td>305</td>\n",
       "      <td>19.2</td>\n",
       "      <td>390.91</td>\n",
       "      <td>5.52</td>\n",
       "      <td>22.8</td>\n",
       "      <td>50.288541</td>\n",
       "    </tr>\n",
       "    <tr>\n",
       "      <th>308</th>\n",
       "      <td>0.01501</td>\n",
       "      <td>80.0</td>\n",
       "      <td>2.01</td>\n",
       "      <td>0</td>\n",
       "      <td>0.435</td>\n",
       "      <td>6.635</td>\n",
       "      <td>29.7</td>\n",
       "      <td>8.3440</td>\n",
       "      <td>4</td>\n",
       "      <td>280</td>\n",
       "      <td>17.0</td>\n",
       "      <td>390.94</td>\n",
       "      <td>5.99</td>\n",
       "      <td>24.5</td>\n",
       "      <td>42.200452</td>\n",
       "    </tr>\n",
       "    <tr>\n",
       "      <th>355</th>\n",
       "      <td>8.71675</td>\n",
       "      <td>0.0</td>\n",
       "      <td>18.10</td>\n",
       "      <td>0</td>\n",
       "      <td>0.693</td>\n",
       "      <td>6.471</td>\n",
       "      <td>98.8</td>\n",
       "      <td>1.7257</td>\n",
       "      <td>24</td>\n",
       "      <td>666</td>\n",
       "      <td>20.2</td>\n",
       "      <td>391.98</td>\n",
       "      <td>17.12</td>\n",
       "      <td>13.1</td>\n",
       "      <td>102.920723</td>\n",
       "    </tr>\n",
       "    <tr>\n",
       "      <th>255</th>\n",
       "      <td>0.12932</td>\n",
       "      <td>0.0</td>\n",
       "      <td>13.92</td>\n",
       "      <td>0</td>\n",
       "      <td>0.437</td>\n",
       "      <td>6.678</td>\n",
       "      <td>31.1</td>\n",
       "      <td>5.9604</td>\n",
       "      <td>4</td>\n",
       "      <td>289</td>\n",
       "      <td>16.0</td>\n",
       "      <td>396.90</td>\n",
       "      <td>6.27</td>\n",
       "      <td>28.6</td>\n",
       "      <td>43.276430</td>\n",
       "    </tr>\n",
       "  </tbody>\n",
       "</table>\n",
       "</div>"
      ],
      "text/plain": [
       "         CRIM    ZN  INDUS  CHAS    NOX     RM   AGE     DIS  RAID  TAX  \\\n",
       "428  15.57570   0.0  18.10     0  0.580  5.926  71.0  2.9084    24  666   \n",
       "32    0.09164   0.0  10.81     0  0.413  6.065   7.8  5.2873     4  305   \n",
       "308   0.01501  80.0   2.01     0  0.435  6.635  29.7  8.3440     4  280   \n",
       "355   8.71675   0.0  18.10     0  0.693  6.471  98.8  1.7257    24  666   \n",
       "255   0.12932   0.0  13.92     0  0.437  6.678  31.1  5.9604     4  289   \n",
       "\n",
       "     PITRATIO       B   LSAT  MEDV       TAXRM  \n",
       "428      20.2  368.74  18.13  19.1  112.386095  \n",
       "32       19.2  390.91   5.52  22.8   50.288541  \n",
       "308      17.0  390.94   5.99  24.5   42.200452  \n",
       "355      20.2  391.98  17.12  13.1  102.920723  \n",
       "255      16.0  396.90   6.27  28.6   43.276430  "
      ]
     },
     "execution_count": 23,
     "metadata": {},
     "output_type": "execute_result"
    }
   ],
   "source": [
    "housing['TAXRM']=housing['TAX']/housing['RM']\n",
    "housing.head()"
   ]
  },
  {
   "cell_type": "code",
   "execution_count": 24,
   "id": "4a952ab0",
   "metadata": {},
   "outputs": [
    {
     "data": {
      "text/plain": [
       "MEDV        1.000000\n",
       "RM          0.697651\n",
       "ZN          0.351142\n",
       "B           0.324725\n",
       "DIS         0.230211\n",
       "CHAS        0.190825\n",
       "AGE        -0.329553\n",
       "CRIM       -0.379673\n",
       "RAID       -0.385317\n",
       "NOX        -0.399771\n",
       "TAX        -0.464756\n",
       "INDUS      -0.469611\n",
       "PITRATIO   -0.507479\n",
       "TAXRM      -0.544555\n",
       "LSAT       -0.732028\n",
       "Name: MEDV, dtype: float64"
      ]
     },
     "execution_count": 24,
     "metadata": {},
     "output_type": "execute_result"
    }
   ],
   "source": [
    "corr_matrix=housing.corr()\n",
    "corr_matrix['MEDV'].sort_values(ascending = False)"
   ]
  },
  {
   "cell_type": "code",
   "execution_count": 25,
   "id": "817eec2a",
   "metadata": {},
   "outputs": [
    {
     "data": {
      "text/plain": [
       "<AxesSubplot:xlabel='RM', ylabel='MEDV'>"
      ]
     },
     "execution_count": 25,
     "metadata": {},
     "output_type": "execute_result"
    },
    {
     "data": {
      "image/png": "[encoded data removed]",
      "text/plain": [
       "<Figure size 432x288 with 1 Axes>"
      ]
     },
     "metadata": {
      "needs_background": "light"
     },
     "output_type": "display_data"
    }
   ],
   "source": [
    "housing.plot(kind=\"scatter\",x=\"RM\",y=\"MEDV\",alpha=0.8)\n"
   ]
  },
  {
   "cell_type": "code",
   "execution_count": 26,
   "id": "19ccacfc",
   "metadata": {},
   "outputs": [],
   "source": [
    "housing = strat_train_set.drop(\"MEDV\",axis=1)\n",
    "housing_labels = strat_train_set[\"MEDV\"].copy()"
   ]
  },
  {
   "cell_type": "markdown",
   "id": "aa3bb517",
   "metadata": {},
   "source": [
    "## missing attributes"
   ]
  },
  {
   "cell_type": "code",
   "execution_count": 27,
   "id": "ae6fa90d",
   "metadata": {},
   "outputs": [
    {
     "data": {
      "text/plain": [
       "(367, 13)"
      ]
     },
     "execution_count": 27,
     "metadata": {},
     "output_type": "execute_result"
    }
   ],
   "source": [
    "a = housing.dropna(subset=['RM']) #option 1\n",
    "a.shape"
   ]
  },
  {
   "cell_type": "code",
   "execution_count": 28,
   "id": "7940db72",
   "metadata": {},
   "outputs": [
    {
     "data": {
      "text/plain": [
       "(372, 12)"
      ]
     },
     "execution_count": 28,
     "metadata": {},
     "output_type": "execute_result"
    }
   ],
   "source": [
    "housing.drop(\"RM\",axis=1).shape #option 2"
   ]
  },
  {
   "cell_type": "code",
   "execution_count": 29,
   "id": "707cf00a",
   "metadata": {},
   "outputs": [],
   "source": [
    "median  = housing[\"RM\"].median()"
   ]
  },
  {
   "cell_type": "code",
   "execution_count": 30,
   "id": "8b64e4b2",
   "metadata": {},
   "outputs": [
    {
     "data": {
      "text/plain": [
       "428    5.926\n",
       "32     6.065\n",
       "308    6.635\n",
       "355    6.471\n",
       "255    6.678\n",
       "       ...  \n",
       "450    5.093\n",
       "264    7.236\n",
       "83     5.856\n",
       "411    6.655\n",
       "132    5.572\n",
       "Name: RM, Length: 372, dtype: float64"
      ]
     },
     "execution_count": 30,
     "metadata": {},
     "output_type": "execute_result"
    }
   ],
   "source": [
    "housing[\"RM\"].fillna(median)"
   ]
  },
  {
   "cell_type": "code",
   "execution_count": 31,
   "id": "493d8eab",
   "metadata": {},
   "outputs": [
    {
     "data": {
      "text/plain": [
       "(372, 13)"
      ]
     },
     "execution_count": 31,
     "metadata": {},
     "output_type": "execute_result"
    }
   ],
   "source": [
    "housing.shape"
   ]
  },
  {
   "cell_type": "code",
   "execution_count": 32,
   "id": "5321e652",
   "metadata": {},
   "outputs": [
    {
     "data": {
      "text/plain": [
       "SimpleImputer(strategy='median')"
      ]
     },
     "execution_count": 32,
     "metadata": {},
     "output_type": "execute_result"
    }
   ],
   "source": [
    "from sklearn.impute import SimpleImputer\n",
    "imputer = SimpleImputer(strategy = \"median\")\n",
    "imputer.fit(housing)"
   ]
  },
  {
   "cell_type": "code",
   "execution_count": 33,
   "id": "42ad6d72",
   "metadata": {},
   "outputs": [
    {
     "data": {
      "text/plain": [
       "array([2.40075e-01, 0.00000e+00, 1.00100e+01, 0.00000e+00, 5.32000e-01,\n",
       "       6.22900e+00, 7.67000e+01, 2.90245e+00, 5.00000e+00, 3.84000e+02,\n",
       "       1.88000e+01, 3.91180e+02, 1.12850e+01])"
      ]
     },
     "execution_count": 33,
     "metadata": {},
     "output_type": "execute_result"
    }
   ],
   "source": [
    "imputer.statistics_"
   ]
  },
  {
   "cell_type": "code",
   "execution_count": 34,
   "id": "b5cb783a",
   "metadata": {},
   "outputs": [],
   "source": [
    "X = imputer.transform(housing)"
   ]
  },
  {
   "cell_type": "code",
   "execution_count": 35,
   "id": "b19e2bdb",
   "metadata": {},
   "outputs": [],
   "source": [
    "housing_tr = pd.DataFrame(X, columns=housing.columns)"
   ]
  },
  {
   "cell_type": "code",
   "execution_count": 36,
   "id": "e960b954",
   "metadata": {},
   "outputs": [
    {
     "data": {
      "text/html": [
       "<div>\n",
       "<style scoped>\n",
       "    .dataframe tbody tr th:only-of-type {\n",
       "        vertical-align: middle;\n",
       "    }\n",
       "\n",
       "    .dataframe tbody tr th {\n",
       "        vertical-align: top;\n",
       "    }\n",
       "\n",
       "    .dataframe thead th {\n",
       "        text-align: right;\n",
       "    }\n",
       "</style>\n",
       "<table border=\"1\" class=\"dataframe\">\n",
       "  <thead>\n",
       "    <tr style=\"text-align: right;\">\n",
       "      <th></th>\n",
       "      <th>CRIM</th>\n",
       "      <th>ZN</th>\n",
       "      <th>INDUS</th>\n",
       "      <th>CHAS</th>\n",
       "      <th>NOX</th>\n",
       "      <th>RM</th>\n",
       "      <th>AGE</th>\n",
       "      <th>DIS</th>\n",
       "      <th>RAID</th>\n",
       "      <th>TAX</th>\n",
       "      <th>PITRATIO</th>\n",
       "      <th>B</th>\n",
       "      <th>LSAT</th>\n",
       "    </tr>\n",
       "  </thead>\n",
       "  <tbody>\n",
       "    <tr>\n",
       "      <th>count</th>\n",
       "      <td>372.000000</td>\n",
       "      <td>372.000000</td>\n",
       "      <td>372.000000</td>\n",
       "      <td>372.000000</td>\n",
       "      <td>372.000000</td>\n",
       "      <td>372.000000</td>\n",
       "      <td>372.000000</td>\n",
       "      <td>372.000000</td>\n",
       "      <td>372.000000</td>\n",
       "      <td>372.000000</td>\n",
       "      <td>372.000000</td>\n",
       "      <td>372.000000</td>\n",
       "      <td>372.000000</td>\n",
       "    </tr>\n",
       "    <tr>\n",
       "      <th>mean</th>\n",
       "      <td>3.554017</td>\n",
       "      <td>12.611559</td>\n",
       "      <td>11.352177</td>\n",
       "      <td>0.075269</td>\n",
       "      <td>0.553715</td>\n",
       "      <td>6.320677</td>\n",
       "      <td>67.749194</td>\n",
       "      <td>3.786406</td>\n",
       "      <td>10.094086</td>\n",
       "      <td>418.784946</td>\n",
       "      <td>18.381989</td>\n",
       "      <td>355.368790</td>\n",
       "      <td>12.483387</td>\n",
       "    </tr>\n",
       "    <tr>\n",
       "      <th>std</th>\n",
       "      <td>7.904730</td>\n",
       "      <td>25.118003</td>\n",
       "      <td>7.028846</td>\n",
       "      <td>0.264180</td>\n",
       "      <td>0.118687</td>\n",
       "      <td>0.693513</td>\n",
       "      <td>28.549559</td>\n",
       "      <td>2.213765</td>\n",
       "      <td>8.957177</td>\n",
       "      <td>172.212171</td>\n",
       "      <td>2.128481</td>\n",
       "      <td>93.553412</td>\n",
       "      <td>7.074854</td>\n",
       "    </tr>\n",
       "    <tr>\n",
       "      <th>min</th>\n",
       "      <td>0.010960</td>\n",
       "      <td>0.000000</td>\n",
       "      <td>0.460000</td>\n",
       "      <td>0.000000</td>\n",
       "      <td>0.385000</td>\n",
       "      <td>4.138000</td>\n",
       "      <td>6.200000</td>\n",
       "      <td>1.129600</td>\n",
       "      <td>1.000000</td>\n",
       "      <td>187.000000</td>\n",
       "      <td>12.600000</td>\n",
       "      <td>0.320000</td>\n",
       "      <td>1.730000</td>\n",
       "    </tr>\n",
       "    <tr>\n",
       "      <th>25%</th>\n",
       "      <td>0.082155</td>\n",
       "      <td>0.000000</td>\n",
       "      <td>4.930000</td>\n",
       "      <td>0.000000</td>\n",
       "      <td>0.445000</td>\n",
       "      <td>5.896250</td>\n",
       "      <td>42.375000</td>\n",
       "      <td>2.084875</td>\n",
       "      <td>4.000000</td>\n",
       "      <td>279.250000</td>\n",
       "      <td>16.975000</td>\n",
       "      <td>374.527500</td>\n",
       "      <td>6.915000</td>\n",
       "    </tr>\n",
       "    <tr>\n",
       "      <th>50%</th>\n",
       "      <td>0.240075</td>\n",
       "      <td>0.000000</td>\n",
       "      <td>10.010000</td>\n",
       "      <td>0.000000</td>\n",
       "      <td>0.532000</td>\n",
       "      <td>6.229000</td>\n",
       "      <td>76.700000</td>\n",
       "      <td>2.902450</td>\n",
       "      <td>5.000000</td>\n",
       "      <td>384.000000</td>\n",
       "      <td>18.800000</td>\n",
       "      <td>391.180000</td>\n",
       "      <td>11.285000</td>\n",
       "    </tr>\n",
       "    <tr>\n",
       "      <th>75%</th>\n",
       "      <td>4.301552</td>\n",
       "      <td>20.000000</td>\n",
       "      <td>18.100000</td>\n",
       "      <td>0.000000</td>\n",
       "      <td>0.631000</td>\n",
       "      <td>6.632000</td>\n",
       "      <td>93.650000</td>\n",
       "      <td>5.214600</td>\n",
       "      <td>24.000000</td>\n",
       "      <td>666.000000</td>\n",
       "      <td>20.200000</td>\n",
       "      <td>395.705000</td>\n",
       "      <td>16.780000</td>\n",
       "    </tr>\n",
       "    <tr>\n",
       "      <th>max</th>\n",
       "      <td>88.976200</td>\n",
       "      <td>100.000000</td>\n",
       "      <td>27.740000</td>\n",
       "      <td>1.000000</td>\n",
       "      <td>0.871000</td>\n",
       "      <td>8.780000</td>\n",
       "      <td>100.000000</td>\n",
       "      <td>12.126500</td>\n",
       "      <td>24.000000</td>\n",
       "      <td>711.000000</td>\n",
       "      <td>22.000000</td>\n",
       "      <td>396.900000</td>\n",
       "      <td>37.970000</td>\n",
       "    </tr>\n",
       "  </tbody>\n",
       "</table>\n",
       "</div>"
      ],
      "text/plain": [
       "             CRIM          ZN       INDUS        CHAS         NOX          RM  \\\n",
       "count  372.000000  372.000000  372.000000  372.000000  372.000000  372.000000   \n",
       "mean     3.554017   12.611559   11.352177    0.075269    0.553715    6.320677   \n",
       "std      7.904730   25.118003    7.028846    0.264180    0.118687    0.693513   \n",
       "min      0.010960    0.000000    0.460000    0.000000    0.385000    4.138000   \n",
       "25%      0.082155    0.000000    4.930000    0.000000    0.445000    5.896250   \n",
       "50%      0.240075    0.000000   10.010000    0.000000    0.532000    6.229000   \n",
       "75%      4.301552   20.000000   18.100000    0.000000    0.631000    6.632000   \n",
       "max     88.976200  100.000000   27.740000    1.000000    0.871000    8.780000   \n",
       "\n",
       "              AGE         DIS        RAID         TAX    PITRATIO           B  \\\n",
       "count  372.000000  372.000000  372.000000  372.000000  372.000000  372.000000   \n",
       "mean    67.749194    3.786406   10.094086  418.784946   18.381989  355.368790   \n",
       "std     28.549559    2.213765    8.957177  172.212171    2.128481   93.553412   \n",
       "min      6.200000    1.129600    1.000000  187.000000   12.600000    0.320000   \n",
       "25%     42.375000    2.084875    4.000000  279.250000   16.975000  374.527500   \n",
       "50%     76.700000    2.902450    5.000000  384.000000   18.800000  391.180000   \n",
       "75%     93.650000    5.214600   24.000000  666.000000   20.200000  395.705000   \n",
       "max    100.000000   12.126500   24.000000  711.000000   22.000000  396.900000   \n",
       "\n",
       "             LSAT  \n",
       "count  372.000000  \n",
       "mean    12.483387  \n",
       "std      7.074854  \n",
       "min      1.730000  \n",
       "25%      6.915000  \n",
       "50%     11.285000  \n",
       "75%     16.780000  \n",
       "max     37.970000  "
      ]
     },
     "execution_count": 36,
     "metadata": {},
     "output_type": "execute_result"
    }
   ],
   "source": [
    "housing_tr.describe()"
   ]
  },
  {
   "cell_type": "markdown",
   "id": "d1224176",
   "metadata": {},
   "source": [
    "## Feature Scaling"
   ]
  },
  {
   "cell_type": "code",
   "execution_count": 37,
   "id": "75ab001f",
   "metadata": {},
   "outputs": [],
   "source": [
    "# primarily two types of feature scaling method \n",
    "# 1 min max scaling\n",
    "# 2 standardization\n"
   ]
  },
  {
   "cell_type": "markdown",
   "id": "339bfe4b",
   "metadata": {},
   "source": [
    "## creating pipeline"
   ]
  },
  {
   "cell_type": "code",
   "execution_count": 38,
   "id": "aacece6d",
   "metadata": {},
   "outputs": [],
   "source": [
    "from sklearn.pipeline import Pipeline\n",
    "from sklearn.preprocessing import StandardScaler\n",
    "my_pipeline = Pipeline([('imputer',SimpleImputer(strategy=\"median\")),('std_scaler',StandardScaler()),])"
   ]
  },
  {
   "cell_type": "code",
   "execution_count": 39,
   "id": "e6b6d2fb",
   "metadata": {},
   "outputs": [],
   "source": [
    "housing_num_tr = my_pipeline.fit_transform(housing_tr)"
   ]
  },
  {
   "cell_type": "code",
   "execution_count": 40,
   "id": "2ed90b53",
   "metadata": {},
   "outputs": [
    {
     "data": {
      "text/plain": [
       "array([[ 1.52286970e+00, -5.02768650e-01,  9.61311554e-01, ...,\n",
       "         8.55285829e-01,  1.43118437e-01,  7.99199175e-01],\n",
       "       [-4.38603248e-01, -5.02768650e-01, -7.72399410e-02, ...,\n",
       "         3.84834360e-01,  3.80414525e-01, -9.85570168e-01],\n",
       "       [-4.48310500e-01,  2.68648745e+00, -1.33090978e+00, ...,\n",
       "        -6.50158872e-01,  3.80735629e-01, -9.19048233e-01],\n",
       "       ...,\n",
       "       [-4.31162246e-01, -5.02768650e-01,  2.03690330e+00, ...,\n",
       "         3.37789213e-01,  1.59922896e-01,  1.82958148e+00],\n",
       "       [ 2.39054907e-01, -5.02768650e-01,  9.61311554e-01, ...,\n",
       "         8.55285829e-01, -8.43330415e-04,  7.42584763e-01],\n",
       "       [-4.32586095e-01, -5.02768650e-01, -1.04028632e+00, ...,\n",
       "        -8.38339459e-01,  4.44528353e-01,  3.12315231e-01]])"
      ]
     },
     "execution_count": 40,
     "metadata": {},
     "output_type": "execute_result"
    }
   ],
   "source": [
    "housing_num_tr"
   ]
  },
  {
   "cell_type": "markdown",
   "id": "6cb25b8b",
   "metadata": {},
   "source": [
    "## selecting a desired model for Real Estate"
   ]
  },
  {
   "cell_type": "code",
   "execution_count": 41,
   "id": "a71ac7e4",
   "metadata": {},
   "outputs": [
    {
     "data": {
      "text/plain": [
       "RandomForestRegressor()"
      ]
     },
     "execution_count": 41,
     "metadata": {},
     "output_type": "execute_result"
    }
   ],
   "source": [
    "from sklearn.linear_model import LinearRegression\n",
    "from sklearn.tree import DecisionTreeRegressor\n",
    "from sklearn.ensemble import RandomForestRegressor\n",
    "#model = LinearRegression()\n",
    "#model = DecisionTreeRegressor()\n",
    "model = RandomForestRegressor()\n",
    "model.fit(housing_num_tr, housing_labels)"
   ]
  },
  {
   "cell_type": "code",
   "execution_count": 42,
   "id": "8db7d9da",
   "metadata": {},
   "outputs": [],
   "source": [
    "some_data = housing.iloc[:5]"
   ]
  },
  {
   "cell_type": "code",
   "execution_count": 43,
   "id": "4c0a3811",
   "metadata": {},
   "outputs": [],
   "source": [
    "some_labels = housing_labels.iloc[:5] "
   ]
  },
  {
   "cell_type": "code",
   "execution_count": 44,
   "id": "2b0db76b",
   "metadata": {},
   "outputs": [],
   "source": [
    "prepared_data=my_pipeline.transform(some_data)"
   ]
  },
  {
   "cell_type": "code",
   "execution_count": 45,
   "id": "04c2bf1a",
   "metadata": {},
   "outputs": [
    {
     "data": {
      "text/plain": [
       "array([17.489, 22.94 , 25.845, 13.421, 27.986])"
      ]
     },
     "execution_count": 45,
     "metadata": {},
     "output_type": "execute_result"
    }
   ],
   "source": [
    "model.predict(prepared_data)"
   ]
  },
  {
   "cell_type": "code",
   "execution_count": 46,
   "id": "e3cc1e8d",
   "metadata": {},
   "outputs": [
    {
     "data": {
      "text/plain": [
       "[19.1, 22.8, 24.5, 13.1, 28.6]"
      ]
     },
     "execution_count": 46,
     "metadata": {},
     "output_type": "execute_result"
    }
   ],
   "source": [
    "list(some_labels)"
   ]
  },
  {
   "cell_type": "code",
   "execution_count": 47,
   "id": "f4262755",
   "metadata": {},
   "outputs": [],
   "source": [
    "from sklearn.metrics import mean_squared_error\n",
    "housing_predictions  = model.predict(housing_num_tr)\n",
    "mse = mean_squared_error(housing_labels,housing_predictions)\n",
    "rmse=np.sqrt(mse)"
   ]
  },
  {
   "cell_type": "code",
   "execution_count": 48,
   "id": "a9a85631",
   "metadata": {},
   "outputs": [
    {
     "data": {
      "text/plain": [
       "1.198312513091746"
      ]
     },
     "execution_count": 48,
     "metadata": {},
     "output_type": "execute_result"
    }
   ],
   "source": [
    "rmse"
   ]
  },
  {
   "cell_type": "markdown",
   "id": "2590d79c",
   "metadata": {},
   "source": [
    "## using better evaluation technique - Cross Validation"
   ]
  },
  {
   "cell_type": "code",
   "execution_count": 49,
   "id": "c9a83548",
   "metadata": {},
   "outputs": [],
   "source": [
    "from sklearn.model_selection import cross_val_score\n",
    "scores = cross_val_score(model,housing_num_tr,housing_labels,scoring = \"neg_mean_squared_error\",cv=10)\n",
    "rmse_scores = np.sqrt(-scores)"
   ]
  },
  {
   "cell_type": "code",
   "execution_count": 50,
   "id": "544d1e2e",
   "metadata": {},
   "outputs": [
    {
     "data": {
      "text/plain": [
       "array([3.6474433 , 4.30425025, 6.50043545, 2.95575392, 4.08486897,\n",
       "       3.77743071, 3.24445627, 2.49521489, 3.34643606, 3.00459868])"
      ]
     },
     "execution_count": 50,
     "metadata": {},
     "output_type": "execute_result"
    }
   ],
   "source": [
    "rmse_scores"
   ]
  },
  {
   "cell_type": "code",
   "execution_count": 51,
   "id": "6cb8f264",
   "metadata": {},
   "outputs": [],
   "source": [
    "def print_scores(scores):\n",
    "    print(\"Scores :\",scores)\n",
    "    print(\"Mean : \",scores.mean())\n",
    "    print(\"Standard Deviation : \",scores.std())\n",
    "    "
   ]
  },
  {
   "cell_type": "code",
   "execution_count": 52,
   "id": "4fccc3da",
   "metadata": {},
   "outputs": [
    {
     "name": "stdout",
     "output_type": "stream",
     "text": [
      "Scores : 1.198312513091746\n",
      "Mean :  1.198312513091746\n",
      "Standard Deviation :  0.0\n"
     ]
    }
   ],
   "source": [
    "print_scores(rmse)"
   ]
  },
  {
   "cell_type": "markdown",
   "id": "c1ab2a39",
   "metadata": {},
   "source": [
    "## testing the model om test data"
   ]
  },
  {
   "cell_type": "code",
   "execution_count": 57,
   "id": "d45b7b84",
   "metadata": {},
   "outputs": [
    {
     "name": "stdout",
     "output_type": "stream",
     "text": [
      "[27.745 19.449  9.843 24.717 33.675  8.386 20.99  21.102 10.993 25.185\n",
      " 32.79  45.053  8.373 35.829 38.332 20.608 22.219 13.999 20.342 18.59\n",
      "  8.232 26.17  22.686 22.517 10.741 23.219 21.543 19.764 19.897 23.65\n",
      " 14.913 20.772 13.402 29.78  25.641 19.49  20.246 10.998 45.423 19.407\n",
      " 22.565 16.924 23.528 25.822 15.915 22.2   10.597 36.941 20.728 30.825\n",
      " 15.095 31.458 29.433 17.194 14.854 10.986 19.225 15.511  9.676 17.929\n",
      " 16.169 25.466 23.974  9.716 21.612 12.905  8.793 11.653 46.097 13.907\n",
      " 25.518 31.975 19.934 23.497 32.996 34.107 19.221 13.807 22.18  20.056\n",
      " 13.73  42.611 31.701 13.508 23.786 13.291 33.861 22.359 21.49  29.589\n",
      " 19.096 33.217 14.081 24.377] [23.9, 22.5, 5.0, 24.6, 32.4, 10.2, 19.8, 11.9, 12.3, 27.0, 34.6, 43.8, 7.0, 33.3, 43.1, 23.4, 24.5, 16.7, 19.6, 20.1, 8.4, 22.8, 26.4, 22.6, 13.1, 22.9, 22.0, 19.5, 16.0, 24.4, 12.6, 20.5, 11.7, 26.6, 26.2, 17.1, 16.1, 10.9, 41.7, 18.7, 23.1, 18.0, 25.0, 36.2, 15.6, 27.5, 8.3, 35.2, 21.7, 22.8, 13.6, 31.6, 26.7, 17.0, 17.8, 12.7, 17.5, 16.2, 8.3, 23.1, 16.4, 25.0, 28.1, 8.8, 22.8, 7.0, 8.8, 8.4, 44.8, 14.6, 24.8, 32.2, 18.7, 23.0, 28.7, 32.0, 19.7, 15.6, 21.0, 18.5, 13.4, 50.0, 35.1, 17.1, 22.9, 13.4, 23.6, 20.6, 23.8, 23.9, 19.9, 33.1, 15.1, 24.1]\n"
     ]
    }
   ],
   "source": [
    "X_test = strat_test_set.drop(\"MEDV\",axis=1)\n",
    "Y_test = strat_test_set[\"MEDV\"].copy()\n",
    "X_test_prepared = my_pipeline.transform(X_test)\n",
    "final_predictions = model.predict(X_test_prepared)\n",
    "final_mse = mean_squared_error(Y_test,final_predictions)\n",
    "final_rmse = np.sqrt(final_mse)\n",
    "print(final_predictions, list(Y_test))"
   ]
  },
  {
   "cell_type": "code",
   "execution_count": 54,
   "id": "5b0f93fe",
   "metadata": {},
   "outputs": [
    {
     "data": {
      "text/plain": [
       "3.093467033481048"
      ]
     },
     "execution_count": 54,
     "metadata": {},
     "output_type": "execute_result"
    }
   ],
   "source": [
    "final_rmse"
   ]
  },
  {
   "cell_type": "code",
   "execution_count": null,
   "id": "ea18d773",
   "metadata": {},
   "outputs": [],
   "source": []
  }
 ],
 "metadata": {
  "kernelspec": {
   "display_name": "Python 3 (ipykernel)",
   "language": "python",
   "name": "python3"
  },
  "language_info": {
   "codemirror_mode": {
    "name": "ipython",
    "version": 3
   },
   "file_extension": ".py",
   "mimetype": "text/x-python",
   "name": "python",
   "nbconvert_exporter": "python",
   "pygments_lexer": "ipython3",
   "version": "3.9.7"
  }
 },
 "nbformat": 4,
 "nbformat_minor": 5
}
